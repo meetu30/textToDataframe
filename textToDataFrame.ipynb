{
 "cells": [
  {
   "cell_type": "markdown",
   "metadata": {},
   "source": [
    "# Converting multiple text files to a single dataframe"
   ]
  },
  {
   "cell_type": "code",
   "execution_count": 12,
   "metadata": {},
   "outputs": [],
   "source": [
    "import pandas as pd\n",
    "import numpy as np\n",
    "import nltk\n",
    "from nltk.corpus import stopwords\n",
    "from nltk.stem import PorterStemmer\n",
    "from sklearn.feature_extraction.text import CountVectorizer\n",
    "from sklearn.feature_extraction.text import TfidfVectorizer\n",
    "\n",
    "# to display more of the text content\n",
    "pd.set_option('display.max_colwidth', 100)"
   ]
  },
  {
   "cell_type": "code",
   "execution_count": 13,
   "metadata": {},
   "outputs": [],
   "source": [
    "#read data \n",
    "import os\n",
    "all_the_files = os.listdir(path)"
   ]
  },
  {
   "cell_type": "code",
   "execution_count": 6,
   "metadata": {},
   "outputs": [
    {
     "name": "stdout",
     "output_type": "stream",
     "text": [
      "Total number of text files to be combined are :  10\n",
      "combined text file created!\n"
     ]
    }
   ],
   "source": [
    "import glob\n",
    "\n",
    "#create an empty list\n",
    "txtFiles = []\n",
    "for file in glob.glob(\"../practice/news/*.txt\"):\n",
    "    txtFiles.append(file)\n",
    "    \n",
    "#print(txtFiles)\n",
    "print(\"Total number of text files to be combined are : \", len(txtFiles))\n",
    "\n",
    "\n",
    "for i in range(len(txtFiles)):\n",
    "    fileName = txtFiles[i]\n",
    "    myFile = open(fileName)\n",
    "    lines = len(myFile.readlines())\n",
    "    #print(\"There are %d lines in %s\" %(lines, fileName))\n",
    "    \n",
    "#append the file\n",
    "fileContent = ''\n",
    "\n",
    "#create final file with the name \"allCombine.txt\" \n",
    "f = open(\"allCombine.txt\", \"w+\")\n",
    "\n",
    "for i in range(len(txtFiles)):\n",
    "    fileName = txtFiles[i]\n",
    "    data = open(fileName).read().replace('\\n', '')\n",
    "    fileContent = fileContent + data + '\\n'\n",
    "    \n",
    "f.write(fileContent)\n",
    "print(\"combined text file created!\")\n",
    "f.close()\n",
    "\n",
    "\n",
    "\n"
   ]
  },
  {
   "cell_type": "code",
   "execution_count": 7,
   "metadata": {},
   "outputs": [],
   "source": [
    "path = '../practice/'\n",
    "filename = \"allCombine.txt\"\n",
    "df = pd.read_table(path+filename, sep = '\\n', header=None)"
   ]
  },
  {
   "cell_type": "code",
   "execution_count": 9,
   "metadata": {},
   "outputs": [
    {
     "data": {
      "text/html": [
       "<div>\n",
       "<style scoped>\n",
       "    .dataframe tbody tr th:only-of-type {\n",
       "        vertical-align: middle;\n",
       "    }\n",
       "\n",
       "    .dataframe tbody tr th {\n",
       "        vertical-align: top;\n",
       "    }\n",
       "\n",
       "    .dataframe thead th {\n",
       "        text-align: right;\n",
       "    }\n",
       "</style>\n",
       "<table border=\"1\" class=\"dataframe\">\n",
       "  <thead>\n",
       "    <tr style=\"text-align: right;\">\n",
       "      <th></th>\n",
       "      <th>0</th>\n",
       "    </tr>\n",
       "  </thead>\n",
       "  <tbody>\n",
       "    <tr>\n",
       "      <th>0</th>\n",
       "      <td>Contact: Staci Maloof  staci.maloof@pnl.gov  509-372-6313  DOE/Pacific Northwest National Labora...</td>\n",
       "    </tr>\n",
       "    <tr>\n",
       "      <th>1</th>\n",
       "      <td>Young women who eat more red meat and full-fat dairy products such as cheese may be raising thei...</td>\n",
       "    </tr>\n",
       "    <tr>\n",
       "      <th>2</th>\n",
       "      <td>Women with a high-fat diet may double their risk of developing  breast cancer  later in life, sa...</td>\n",
       "    </tr>\n",
       "    <tr>\n",
       "      <th>3</th>\n",
       "      <td>There were fewer deaths from  cancer  across Europe in 2000 than had experts had predicted, it h...</td>\n",
       "    </tr>\n",
       "    <tr>\n",
       "      <th>4</th>\n",
       "      <td>Contact: Jane Wardle  j.wardle@ucl.ac.uk  Center for the Advancement of Health    Stressed-out 1...</td>\n",
       "    </tr>\n",
       "    <tr>\n",
       "      <th>5</th>\n",
       "      <td>Sun worshippers may be increasing their risk of developing  skin cancer  by using sunscreens tha...</td>\n",
       "    </tr>\n",
       "    <tr>\n",
       "      <th>6</th>\n",
       "      <td>A dietary supplement of  vitamins  and minerals may help to slash the risk of  cancer , research...</td>\n",
       "    </tr>\n",
       "    <tr>\n",
       "      <th>7</th>\n",
       "      <td>Green tea's ability to fight  cancer  is even more potent and varied than scientists suspected, ...</td>\n",
       "    </tr>\n",
       "    <tr>\n",
       "      <th>8</th>\n",
       "      <td>Contact: NCI Press Officers  ncipressofficers@mail.nih.gov  301-496-6641  NIH/National Cancer In...</td>\n",
       "    </tr>\n",
       "    <tr>\n",
       "      <th>9</th>\n",
       "      <td>Short, intense courses of  radiotherapy  are more effective in treating head and neck  cancer , ...</td>\n",
       "    </tr>\n",
       "  </tbody>\n",
       "</table>\n",
       "</div>"
      ],
      "text/plain": [
       "                                                                                                     0\n",
       "0  Contact: Staci Maloof  staci.maloof@pnl.gov  509-372-6313  DOE/Pacific Northwest National Labora...\n",
       "1  Young women who eat more red meat and full-fat dairy products such as cheese may be raising thei...\n",
       "2  Women with a high-fat diet may double their risk of developing  breast cancer  later in life, sa...\n",
       "3  There were fewer deaths from  cancer  across Europe in 2000 than had experts had predicted, it h...\n",
       "4  Contact: Jane Wardle  j.wardle@ucl.ac.uk  Center for the Advancement of Health    Stressed-out 1...\n",
       "5  Sun worshippers may be increasing their risk of developing  skin cancer  by using sunscreens tha...\n",
       "6  A dietary supplement of  vitamins  and minerals may help to slash the risk of  cancer , research...\n",
       "7  Green tea's ability to fight  cancer  is even more potent and varied than scientists suspected, ...\n",
       "8  Contact: NCI Press Officers  ncipressofficers@mail.nih.gov  301-496-6641  NIH/National Cancer In...\n",
       "9  Short, intense courses of  radiotherapy  are more effective in treating head and neck  cancer , ..."
      ]
     },
     "execution_count": 9,
     "metadata": {},
     "output_type": "execute_result"
    }
   ],
   "source": [
    "df"
   ]
  },
  {
   "cell_type": "code",
   "execution_count": 10,
   "metadata": {},
   "outputs": [],
   "source": [
    "#renaming column 0\n",
    "df.rename(columns={0:'text'}, inplace = True)"
   ]
  },
  {
   "cell_type": "code",
   "execution_count": 15,
   "metadata": {},
   "outputs": [],
   "source": [
    "#Copy the file to any other desired location\n",
    "import shutil\n",
    "newPath = shutil.copy(\"allCombine.txt\", \"C:/Meetu/Fall2018\")"
   ]
  },
  {
   "cell_type": "code",
   "execution_count": null,
   "metadata": {},
   "outputs": [],
   "source": [
    "#End of File"
   ]
  }
 ],
 "metadata": {
  "kernelspec": {
   "display_name": "Python 3",
   "language": "python",
   "name": "python3"
  },
  "language_info": {
   "codemirror_mode": {
    "name": "ipython",
    "version": 3
   },
   "file_extension": ".py",
   "mimetype": "text/x-python",
   "name": "python",
   "nbconvert_exporter": "python",
   "pygments_lexer": "ipython3",
   "version": "3.6.5"
  }
 },
 "nbformat": 4,
 "nbformat_minor": 2
}
